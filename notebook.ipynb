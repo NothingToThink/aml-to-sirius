{
 "cells": [
  {
   "cell_type": "code",
   "execution_count": null,
   "id": "8300623a-3271-49d4-ae76-8b1d1e0652bb",
   "metadata": {},
   "outputs": [],
   "source": [
    "import requests\n",
    "import csv\n",
    "import json\n",
    "import socket \n",
    "from datetime import datetime\n",
    "\n",
    "def get_block_info(block_hash):\n",
    "    try:\n",
    "        response = requests.get(f\"https://blockchain.info/rawblock/{block_hash}\")\n",
    "        response.raise_for_status()\n",
    "        return response.json()\n",
    "    except requests.HTTPError as e:\n",
    "        print(f\"Ошибка HTTP: {e}\")\n",
    "        return None\n",
    "    except Exception as e:\n",
    "        print(f\"Ошибка: {e}\")\n",
    "        return None\n",
    "\n",
    "def check_blacklist(btc_address):\n",
    "    try:\n",
    "        hostname = f\"{btc_address}.bl.btcblack.it\"\n",
    "        ip_address = socket.gethostbyname(hostname)\n",
    "        return ip_address == \"127.0.0.2\"\n",
    "    except socket.gaierror:\n",
    "        return False\n",
    "\n",
    "def is_suspicious(addreses):\n",
    "    for adress in addreses:\n",
    "        if check_blacklist(adress):\n",
    "            return True\n",
    "    return False\n",
    "\n",
    "def process_transactions(transactions, csv_writer):\n",
    "    for tx in transactions:\n",
    "        inputs = {inp[\"prev_out\"][\"addr\"]: inp[\"prev_out\"][\"value\"] / 100000000 for inp in tx[\"inputs\"] if \"prev_out\" in inp and \"addr\" in inp[\"prev_out\"]}\n",
    "        outputs = {out[\"addr\"]: out[\"value\"] / 100000000 for out in tx[\"out\"] if \"addr\" in out}\n",
    "        total_amount = sum(outputs.values())\n",
    "        suspicious = is_suspicious(list(inputs.keys()) + list(outputs.keys()))\n",
    "        tx_details = {\n",
    "            \"Timestamp\": (tx[\"time\"]),\n",
    "            \"TotalAmount\": total_amount,\n",
    "            \"TotalInputs\": len(inputs),\n",
    "            \"TotalOutputs\": len(outputs),\n",
    "            \"Inputs\": json.dumps(inputs),\n",
    "            \"Outputs\": json.dumps(outputs),\n",
    "            \"Suspicius\": suspicious,\n",
    "        }\n",
    "        csv_writer.writerow(tx_details)\n",
    "\n",
    "def fetch_transactions_and_write_csv(last_n_blocks=80, csv_filename=\"transactions.csv\"):\n",
    "    try:\n",
    "        latest_block_hash = requests.get(\"https://blockchain.info/latestblock\").json()[\"hash\"]\n",
    "\n",
    "        with open(csv_filename, mode='w', newline='', encoding='utf-8') as file:\n",
    "            fieldnames = [\"Timestamp\", \"TotalAmount\", \"TotalInputs\", \"TotalOutputs\", \"Inputs\", \"Outputs\", \"Suspicius\"]\n",
    "            writer = csv.DictWriter(file, fieldnames=fieldnames)\n",
    "            writer.writeheader()\n",
    "            \n",
    "            for _ in range(last_n_blocks):\n",
    "                block_data = get_block_info(latest_block_hash)\n",
    "                if block_data:\n",
    "                    process_transactions(block_data[\"tx\"], writer)\n",
    "                    latest_block_hash = block_data[\"prev_block\"]\n",
    "                else:\n",
    "                    print(\"Ошибка получения данных о блоке.\")\n",
    "                    break\n",
    "    except Exception as e:\n",
    "        print(f\"Ошибка: {e}\")\n",
    "\n",
    "fetch_transactions_and_write_csv()\n"
   ]
  },
  {
   "cell_type": "markdown",
   "id": "e767a844-3957-4827-98dd-245f18d6c9b9",
   "metadata": {},
   "source": [
    "Код собирает данные о последних 80 блоков блокчейна биткойна. Записывает основные параметры транзакций в csv файл.\n",
    "\n",
    "Информацию о кошельков мы берем с сайта https://btcblack.it/"
   ]
  },
  {
   "cell_type": "code",
   "execution_count": 5,
   "id": "5bc0a6dd-f0c3-4cd7-b6ee-ddfdbf281305",
   "metadata": {},
   "outputs": [
    {
     "name": "stdout",
     "output_type": "stream",
     "text": [
      "Датасет кошельков сохранен в файл 'wallets.csv'.\n"
     ]
    }
   ],
   "source": [
    "import pandas as pd\n",
    "import json\n",
    "import numpy as np\n",
    "import socket \n",
    "from datetime import datetime\n",
    "\n",
    "df = pd.read_csv('transactions.csv')\n",
    "\n",
    "wallets = {}\n",
    "\n",
    "def check_blacklist(btc_address):\n",
    "    try:\n",
    "        hostname = f\"{btc_address}.bl.btcblack.it\"\n",
    "        ip_address = socket.gethostbyname(hostname)\n",
    "        return ip_address == \"127.0.0.2\"\n",
    "    except socket.gaierror:\n",
    "        return False\n",
    "\n",
    "# Функция для обновления агрегированных данных кошелька\n",
    "def update_wallet(wallet, amount, is_input, inputs, outputs, row):\n",
    "    timestamp = datetime.fromtimestamp(row['Timestamp'])\n",
    "    if wallet not in wallets:\n",
    "        wallets[wallet] = {'total_sent': 0, 'total_received': 0, 'tx_amounts': [],\n",
    "                           'tx_timestamps': [], 'unique_addresses': set(),\n",
    "                           'total_inputs': 0, 'total_outputs': 0, 'tx_counts': 0,\n",
    "                           'blacklisted': check_blacklist(wallet)}\n",
    "    \n",
    "    if is_input:\n",
    "        wallets[wallet]['total_received'] += amount\n",
    "    else:\n",
    "        wallets[wallet]['total_sent'] += amount\n",
    "\n",
    "    wallets[wallet]['tx_amounts'].append(amount)\n",
    "    wallets[wallet]['tx_timestamps'].append(timestamp)\n",
    "    wallets[wallet]['unique_addresses'].update(inputs.keys())\n",
    "    wallets[wallet]['unique_addresses'].update(outputs.keys())\n",
    "    wallets[wallet]['total_inputs'] += row['TotalInputs']\n",
    "    wallets[wallet]['total_outputs'] += row['TotalOutputs']\n",
    "    wallets[wallet]['tx_counts'] += 1\n",
    "\n",
    "# Обработка каждой строки в датасете\n",
    "for index, row in df.iterrows():\n",
    "    inputs = json.loads(row['Inputs'])\n",
    "    outputs = json.loads(row['Outputs'])\n",
    "    total_amount = row['TotalAmount']\n",
    "    \n",
    "    for wallet in inputs:\n",
    "        update_wallet(wallet, total_amount, True, inputs, outputs, row)\n",
    "\n",
    "    for wallet in outputs:\n",
    "        update_wallet(wallet, total_amount, False, inputs, outputs, row)\n",
    "\n",
    "# Расчет интервалов между транзакциями\n",
    "def calculate_intervals(timestamps):\n",
    "    timestamps.sort()\n",
    "    intervals = [(timestamps[i] - timestamps[i-1]).total_seconds() for i in range(1, len(timestamps))]\n",
    "    return intervals if intervals else [0]\n",
    "\n",
    "# Преобразование словаря в DataFrame и расчет дополнительных признаков\n",
    "wallets_df = pd.DataFrame.from_dict(wallets, orient='index')\n",
    "wallets_df['wallet'] = wallets_df.index\n",
    "wallets_df['unique_address_count'] = wallets_df['unique_addresses'].apply(len)\n",
    "wallets_df['avg_interval_between_tx'] = wallets_df['tx_timestamps'].apply(calculate_intervals).apply(np.mean)\n",
    "wallets_df['avg_tx_amount'] = wallets_df['tx_amounts'].apply(np.mean)\n",
    "wallets_df['max_tx_amount'] = wallets_df['tx_amounts'].apply(max)\n",
    "wallets_df['min_tx_amount'] = wallets_df['tx_amounts'].apply(min)\n",
    "wallets_df['avg_inputs'] = wallets_df['total_inputs'] / wallets_df['tx_counts']\n",
    "wallets_df['avg_outputs'] = wallets_df['total_outputs'] / wallets_df['tx_counts']\n",
    "\n",
    "# Очистка от временных колонок\n",
    "wallets_df.drop(columns=['tx_amounts', 'tx_timestamps', 'unique_addresses', 'total_inputs', 'total_outputs', 'tx_counts'], inplace=True)\n",
    "\n",
    "# Сохранение обработанного датасета в файл CSV\n",
    "wallets_df.to_csv('wallets.csv', index=False)\n",
    "\n",
    "print(\"Датасет кошельков сохранен в файл 'wallets.csv'.\")\n"
   ]
  },
  {
   "cell_type": "markdown",
   "id": "6beb46ea-018a-4756-aefd-fe805721df41",
   "metadata": {},
   "source": [
    "Код анализирует собранные данные о транзакциях, делая из них датасет кошельков. \n"
    "Нами были выбраны следующие параметры кошельков:\n"
    "1) Уникальное количество адресов, с которыми проводилась операция: Этот параметр позволяет оценить разнообразие взаимодействий кошелька с другими участниками сети. Чем больше уникальных адресов, тем шире сеть контактов кошелька, что может указывать на повышенную активность или коммерческое использование.\n"
    "2) Средний интервал между транзакциями: Показывает, насколько часто кошелек совершает транзакции. Короткие интервалы могут указывать на высокую активность кошелька, длинные - на периодическое или редкое использование.\n"
    "3) Средний размер транзакции: Позволяет оценить обычный объем средств, перемещаемых через кошелек, и выявить необычные паттерны активности.\n"
    "4) Максимальный размер транзакции: Предоставляет информацию о самой крупной транзакции кошелька, что может быть признаком крупных операций.\n"
    "5) Минимальный размер транзакции: Отражает наименьшую сумму, переданную через кошелек, что может помочь выявить кошельки, используемые для мелких транзакций.\n"
    "6) Среднее количество inputs в транзакциях с этим кошельком: Отражает типичное количество входящих связей в транзакциях, что может указывать на сбор средств с множества источников.\n"
    "7) Среднее количество outputs в транзакциях с этим кошельком: Показывает, как много адресов обычно получает средства от данного кошелька, что может быть признаком распределения средств между множеством участников.\n"
    "8) Есть ли кошелек в блеклисте: Указывает на присутствие кошелька в списках подозрительной или незаконной деятельности и может служить основанием для дополнительного мониторинга.\n"
   ]
  }
 ],
 "metadata": {
  "kernelspec": {
   "display_name": "Python 3 (ipykernel)",
   "language": "python",
   "name": "python3"
  },
  "language_info": {
   "codemirror_mode": {
    "name": "ipython",
    "version": 3
   },
   "file_extension": ".py",
   "mimetype": "text/x-python",
   "name": "python",
   "nbconvert_exporter": "python",
   "pygments_lexer": "ipython3",
   "version": "3.10.12"
  }
 },
 "nbformat": 4,
 "nbformat_minor": 5
}
